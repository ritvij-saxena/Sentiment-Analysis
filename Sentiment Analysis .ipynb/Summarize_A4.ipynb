{
 "cells": [
  {
   "cell_type": "code",
   "execution_count": 4,
   "metadata": {},
   "outputs": [
    {
     "name": "stdout",
     "output_type": "stream",
     "text": [
      "Summary:\n",
      "Total Number of Users collected: 897\n",
      "Total Number of Tweets collected: 897\n",
      "number of communities discovered: 10\n",
      "average number of users per community: 68.9\n",
      "\n",
      "No of Positive Instance: 360 \n",
      "No of Negative Instance: 201 \n",
      "No of Neutral Instance: 336 \n",
      "\n",
      "Example of positive instances \n",
      "1. i am seeing avengers endgame tonight pray for me\n",
      "2. dellemc UDUDellEMCAvengers Attending the Avengers Endgame premier Yeees\n",
      "\n",
      " Example of negative instances \n",
      "1. STOP BEING ASSHOLES AND FUCKING UPLOADING CLIPS OF FUCKING AVENGERS ENDGAME TO YOUTUBE YOU DICKWADS I just fucking\n",
      "2. THE STUPIDEST FUCKING THING YOU GUYS EVER DID WAS ANNOUNCE NEW MOVIES AFTER ENDGAME\n",
      "\n",
      " Example of neutral instances \n",
      "1. Stuart little dies at the end of Avengers endgame\n",
      "2. At the end of Endgame the Avengers dig up Thanos s tweets from and that basically ends him Endgame\n",
      "\n"
     ]
    }
   ],
   "source": [
    "\"\"\"\n",
    "Summarize data.\n",
    "\"\"\"\n",
    "import pickle\n",
    "\n",
    "\n",
    "def main():\n",
    "    print('Summary:')\n",
    "    ids = pickle.load(open('ids.pkl','rb'))\n",
    "    tweets = pickle.load(open('raw_tweets.pkl','rb'))\n",
    "    print(\"Total Number of Users collected:\",len(ids))\n",
    "    print(\"Total Number of Tweets collected:\",len(tweets))\n",
    "    \n",
    "    cluster_result = open('cluster_results.txt','r')\n",
    "    print(cluster_result.read())\n",
    "    \n",
    "    classify_result = open('classify_result.txt','r')\n",
    "    print(classify_result.read())\n",
    "    \n",
    "    f = open('summary.txt','w')\n",
    "    f.write('Summary:')\n",
    "    f.write(\"Total Number of Users collected:%d\" %len(ids))\n",
    "    f.write(\"Total Number of Tweets collected:%d\" %len(tweets))\n",
    "    f.write(cluster_result.read())\n",
    "    f.write(classify_result.read())\n",
    "    cluster_result.close()\n",
    "    classify_result.close()\n",
    "    f.close()\n",
    "    \n",
    "    \n",
    "if __name__ == \"__main__\":\n",
    "    main()"
   ]
  },
  {
   "cell_type": "code",
   "execution_count": null,
   "metadata": {},
   "outputs": [],
   "source": []
  }
 ],
 "metadata": {
  "kernelspec": {
   "display_name": "Python 3",
   "language": "python",
   "name": "python3"
  },
  "language_info": {
   "codemirror_mode": {
    "name": "ipython",
    "version": 3
   },
   "file_extension": ".py",
   "mimetype": "text/x-python",
   "name": "python",
   "nbconvert_exporter": "python",
   "pygments_lexer": "ipython3",
   "version": "3.7.1"
  }
 },
 "nbformat": 4,
 "nbformat_minor": 2
}
