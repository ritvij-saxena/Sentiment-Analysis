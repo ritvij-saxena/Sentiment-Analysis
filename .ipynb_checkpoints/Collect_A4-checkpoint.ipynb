{
 "cells": [
  {
   "cell_type": "code",
   "execution_count": null,
   "metadata": {},
   "outputs": [],
   "source": [
    "\"\"\"\n",
    "Collect data.\n",
    "\"\"\"\n",
    "import time\n",
    "import pickle\n",
    "import random\n",
    "import datetime\n",
    "from TwitterAPI import TwitterAPI\n",
    "from io import BytesIO\n",
    "from zipfile import ZipFile\n",
    "from urllib.request import urlopen\n",
    "\n",
    "\n",
    "consumer_key = 'ARhDeefKMSvpabPc8oZVhMzAY'\n",
    "consumer_secret = 'Cl8qluG2TPzpAM5tsRA29Imu7k7ZUifQvYhxNgeFI2cxvUhvmr'\n",
    "access_token = '1089314726117625857-LzzDIqy4icWsjkTr8GWGSg08QOevmt'\n",
    "access_token_secret = 'kfF8kHTPW8MRq69XdyHPDCzB3y1Eovm0E7sT5K8zQcO5o'\n",
    "\n",
    "\n",
    "def get_twitter():\n",
    "    return TwitterAPI(consumer_key, consumer_secret, access_token, access_token_secret)\n",
    "\n",
    "def robust_request(twitter, resource, params, max_tries=5):\n",
    "    for i in range(max_tries):\n",
    "        request = twitter.request(resource, params)\n",
    "        if request.status_code == 200:\n",
    "            return request\n",
    "        else:\n",
    "            print('Got error %s \\nsleeping for 15 minutes.' % request.text)\n",
    "            sys.stderr.flush()\n",
    "            time.sleep(61 * 15)\n",
    "\n",
    "\n",
    "def get_users(twitter, screen_names):\n",
    "    params = {'screen_name' : screen_names}\n",
    "    return robust_request(twitter, 'users/lookup', params)"
   ]
  },
  {
   "cell_type": "code",
   "execution_count": null,
   "metadata": {},
   "outputs": [],
   "source": [
    "def download_affin():\n",
    "    url = urlopen('http://www2.compute.dtu.dk/~faan/data/AFINN.zip')\n",
    "    zipfile = ZipFile(BytesIO(url.read()))\n",
    "    afinn_file = zipfile.open('AFINN/AFINN-111.txt')\n",
    "\n",
    "    afinn = dict()\n",
    "\n",
    "    for line in afinn_file:\n",
    "        parts = line.strip().split()\n",
    "        if len(parts) == 2:\n",
    "            afinn[parts[0].decode(\"utf-8\")] = int(parts[1])\n",
    "    return afinn\n",
    "    pass\n",
    "\n",
    "neg_words = []\n",
    "pos_words = []\n",
    "\n",
    "def lexiconData(afinn):\n",
    "    pos_words=set([key for key, value in afinn.items() if value>=0])\n",
    "    output = open('pos.txt', 'wb')\n",
    "    pickle.dump(pos_words, output)\n",
    "    output.close()\n",
    "    neg_words=set([key for key, value in afinn.items() if value<0])\n",
    "    output = open('neg.txt', 'wb')\n",
    "    pickle.dump(neg_words, output)\n",
    "    output.close()\n"
   ]
  },
  {
   "cell_type": "code",
   "execution_count": 12,
   "metadata": {},
   "outputs": [],
   "source": [
    "def read_screen_names(filename):\n",
    "    file = open(filename)\n",
    "    names = [line.strip() for line in file] \n",
    "    random.shuffle(names)\n",
    "    return names[:5]\n",
    "\n",
    "# screen_names = read_screen_names('cast_list.txt')\n",
    "# print(len(screen_names))"
   ]
  },
  {
   "cell_type": "code",
   "execution_count": null,
   "metadata": {},
   "outputs": [],
   "source": [
    "def writeToFile(filename,tweets):\n",
    "    output_file = open(filename,'wb')\n",
    "    pickle.dump(tweets,output_file)\n",
    "    output_file.close()"
   ]
  },
  {
   "cell_type": "code",
   "execution_count": null,
   "metadata": {},
   "outputs": [],
   "source": [
    "def get_friends(twitter, screen_name):\n",
    "    list_friends=[]\n",
    "    request=robust_request(twitter,'friends/ids',{'screen_name':name,'count':5000,'cursor':-1})\n",
    "    for r in request:\n",
    "        list_friends.append(r)\n",
    "    return sorted(list_friends)"
   ]
  },
  {
   "cell_type": "code",
   "execution_count": null,
   "metadata": {},
   "outputs": [],
   "source": [
    "def collect_friends_user(twitter,tweets):\n",
    "    tweet_with_friends=[]\n",
    "    for t in tweets:\n",
    "        t['user']['friends'] = get_friends(twitter,t['user']['screen_name'])\n",
    "        tweet_with_friends.append(t)\n",
    "        writeToFile('tweetswithfriends.pkl',tweet_with_friends)"
   ]
  },
  {
   "cell_type": "code",
   "execution_count": null,
   "metadata": {},
   "outputs": [],
   "source": [
    "def get_tweets(twitter,keywords):\n",
    "    tweets=[]\n",
    "    # add more to increase range\n",
    "    for i in range(0,3):\n",
    "        time_param = datetime.datetime.now()-datetime.timedelta(days=i)\n",
    "        time_param = time_param.strftime('%Y-%m-%d')\n",
    "        for k in keywords:\n",
    "            request = robust_request(twitter,'search/tweets', {'q':k,'count':100,'until':time_param,'lang':'en'})\n",
    "        for r in request:\n",
    "            tweets.append(r)\n",
    "    writeToFile('tweets.pkl',tweets)\n",
    "    return tweets"
   ]
  },
  {
   "cell_type": "code",
   "execution_count": null,
   "metadata": {},
   "outputs": [],
   "source": [
    "def main():\n",
    "    print(\"Connecting... \\n\")\n",
    "    twitter = get_twitter()\n",
    "    print(\"Connection Established \\n\")\n",
    "    print(\"Getting screen names of the cast \\n\")\n",
    "    screen_names = read_screen_names('cast_list.txt')\n",
    "    friends_of_cast = [] \n",
    "    print(\"Getting friends of the cast\")\n",
    "    for name in screen_name:\n",
    "        element = get_friends(twitter,name)\n",
    "        friends_of_cast.append(element)\n",
    "    writeToFile('friendsofcast.pkl',friends_of_cast)\n",
    "    print(\"Loading AFINN, LEXICON \\n\")\n",
    "    afinn = download_afinn()\n",
    "    lexiconData(afinn)\n",
    "    keywords = \"avengers endgame spoilers contains:avengers endgame spoilers -filter:retweets\"\n",
    "    tweets = get_tweets(twitter,keywords)\n",
    "    collect_friends_user(twitter,tweets)\n",
    "if __name__ == \"__main__\":\n",
    "    main()"
   ]
  }
 ],
 "metadata": {
  "kernelspec": {
   "display_name": "Python 3",
   "language": "python",
   "name": "python3"
  },
  "language_info": {
   "codemirror_mode": {
    "name": "ipython",
    "version": 3
   },
   "file_extension": ".py",
   "mimetype": "text/x-python",
   "name": "python",
   "nbconvert_exporter": "python",
   "pygments_lexer": "ipython3",
   "version": "3.7.1"
  }
 },
 "nbformat": 4,
 "nbformat_minor": 2
}
